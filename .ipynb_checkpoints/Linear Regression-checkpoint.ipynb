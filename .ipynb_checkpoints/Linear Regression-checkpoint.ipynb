{
 "cells": [
  {
   "cell_type": "markdown",
   "id": "60606f1f",
   "metadata": {},
   "source": [
    "# Linear Regression with Gradient descent\n",
    "---"
   ]
  },
  {
   "cell_type": "code",
   "execution_count": 1,
   "id": "5601f6f8",
   "metadata": {},
   "outputs": [],
   "source": [
    "import numpy as np\n",
    "import pandas as pd\n",
    "from sklearn.datasets import make_regression"
   ]
  },
  {
   "cell_type": "markdown",
   "id": "c957fdeb",
   "metadata": {},
   "source": [
    "## Model\n",
    "---"
   ]
  },
  {
   "cell_type": "code",
   "execution_count": 2,
   "id": "ecd0d343",
   "metadata": {},
   "outputs": [],
   "source": [
    "class LinearRegression():    \n",
    "    def predict(self,X):\n",
    "        w=self.w\n",
    "        X=self.X\n",
    "        pred = np.dot(X,w[1:]) + w[0]\n",
    "        return pred\n",
    "    \n",
    "    def fit(self,X,y,epochs=100,lr=0.1):\n",
    "        self.X=X.values\n",
    "        X=self.X\n",
    "        self.y=y.values\n",
    "        y=self.y\n",
    "        self.w=np.ones(X.shape[1]+1)\n",
    "        self.lr=lr\n",
    "        n=X.shape[0]\n",
    "        \n",
    "        for e in range(epochs):\n",
    "\n",
    "            y_pred=self.predict(X)\n",
    "\n",
    "            diff=y-y_pred\n",
    "\n",
    "            for i in range(1,self.w.shape[0]):\n",
    "                col=X[:,i-1]\n",
    "                su=np.sum(col*diff)\n",
    "                grad=(-2/n)*(su)\n",
    "                self.w[i]=self.w[i]-(self.lr*grad)\n",
    "\n",
    "            grad=(-2/n)*np.sum(diff)\n",
    "            self.w[0]=self.w[0]-(self.lr*grad)"
   ]
  },
  {
   "cell_type": "markdown",
   "id": "410ebc32",
   "metadata": {},
   "source": [
    "## Making synthetic data\n",
    "---"
   ]
  },
  {
   "cell_type": "code",
   "execution_count": 3,
   "id": "d7d59893",
   "metadata": {},
   "outputs": [],
   "source": [
    "X,y=make_regression(n_samples=100,n_features=2)\n",
    "df=pd.DataFrame(data=X,columns=['x1','x2'])\n",
    "df['y']=y\n",
    "\n",
    "lr=LinearRegression()\n",
    "\n",
    "X=df.drop('y',axis=1)\n",
    "y=df['y']"
   ]
  },
  {
   "cell_type": "markdown",
   "id": "3ffd08bb",
   "metadata": {},
   "source": [
    "## Testing model\n",
    "---"
   ]
  },
  {
   "cell_type": "code",
   "execution_count": 4,
   "id": "21a1168a",
   "metadata": {
    "scrolled": true
   },
   "outputs": [],
   "source": [
    "lr.fit(X,y)"
   ]
  },
  {
   "cell_type": "code",
   "execution_count": 5,
   "id": "d6b21608",
   "metadata": {},
   "outputs": [],
   "source": [
    "from sklearn.metrics import r2_score\n",
    "pred=lr.predict(X)"
   ]
  },
  {
   "cell_type": "code",
   "execution_count": 6,
   "id": "e854f63a",
   "metadata": {},
   "outputs": [
    {
     "data": {
      "text/plain": [
       "0.9999999999999813"
      ]
     },
     "execution_count": 6,
     "metadata": {},
     "output_type": "execute_result"
    }
   ],
   "source": [
    "r2_score(y,pred)"
   ]
  }
 ],
 "metadata": {
  "kernelspec": {
   "display_name": "Python [conda env:MachineLearning] *",
   "language": "python",
   "name": "conda-env-MachineLearning-py"
  },
  "language_info": {
   "codemirror_mode": {
    "name": "ipython",
    "version": 3
   },
   "file_extension": ".py",
   "mimetype": "text/x-python",
   "name": "python",
   "nbconvert_exporter": "python",
   "pygments_lexer": "ipython3",
   "version": "3.7.11"
  }
 },
 "nbformat": 4,
 "nbformat_minor": 5
}
