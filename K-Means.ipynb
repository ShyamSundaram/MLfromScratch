{
 "cells": [
  {
   "cell_type": "markdown",
   "id": "7e2934d3",
   "metadata": {},
   "source": [
    "# K-Means\n",
    "---"
   ]
  },
  {
   "cell_type": "code",
   "execution_count": 1,
   "id": "d603d769",
   "metadata": {},
   "outputs": [],
   "source": [
    "import numpy as np\n",
    "import pandas as pd\n",
    "import matplotlib.pyplot as plt\n",
    "import seaborn as sb\n",
    "import math\n",
    "%matplotlib inline"
   ]
  },
  {
   "cell_type": "code",
   "execution_count": 18,
   "id": "36ce5ce0",
   "metadata": {},
   "outputs": [],
   "source": [
    "class Kmeans:\n",
    "    \n",
    "    def __init__(self,clusters=3):\n",
    "        self.clusters=clusters #number of clusters\n",
    "        self.centroid=[] #centroid\n",
    "        self.old_clusters=[]\n",
    "        \n",
    "    def update_centroid(self):\n",
    "        for i in range(self.clusters):\n",
    "            for j in range(self.attr):\n",
    "                temp=self.df[np.where(self.df[:,-1]==i)][:,j]\n",
    "                self.centroid[i][j]=np.mean(temp)\n",
    "        \n",
    "    def iterate(self):\n",
    "        #x=self.x\n",
    "        clusters=self.clusters\n",
    "        centroid=self.centroid\n",
    "        \n",
    "        for i in range(self.n):\n",
    "            dist=[]\n",
    "\n",
    "            for j in range(clusters):\n",
    "                dist.append(np.sqrt(np.sum((centroid[j]-self.df[i,:-1])**2))) #calculate distance of point from each centroid\n",
    "            \n",
    "            mindist=min(dist)\n",
    "            temp=[i for i,e in enumerate(dist) if e==mindist]\n",
    "            if self.df[i,-1] not in temp:\n",
    "                self.df[i,-1]=np.argmin(dist)\n",
    "            \n",
    "        self.update_centroid()\n",
    "    \n",
    "    def get_centroids(self):\n",
    "        return self.centroid\n",
    "    \n",
    "    def predict(self,X):\n",
    "        X=X.values\n",
    "        pred=[]\n",
    "        for i in range(X.shape[0]):\n",
    "            dist=[]\n",
    "            for j in range(self.clusters):\n",
    "                dist.append(np.sqrt(np.sum((self.centroid[j]-X[i,:])**2)))\n",
    "            pred.append(np.argmin(dist))\n",
    "        return np.array(pred)\n",
    "    \n",
    "    def plot(self):\n",
    "        df=self.df\n",
    "        colors=[\"orange\",\"green\",\"blue\",\"purple\",\"yellow\",\"orange\"]\n",
    "        for i in range(self.clusters):\n",
    "            plt.scatter(df[np.where(df[:,-1]==i)][:,0],df[np.where(df[:,-1]==i)][:,1],c=colors[i])\n",
    "            plt.scatter(self.centroid[i][0],self.centroid[i][1],c=\"red\")\n",
    "        plt.show()\n",
    "    \n",
    "    def fit(self,df,centroids=None,epochs=100,show_plot=True):\n",
    "        self.n=len(df)\n",
    "        temp=np.zeros(len(df))\n",
    "        self.df=df.copy()\n",
    "        self.df['CeNtRo']=temp.tolist()\n",
    "        self.df=self.df.values\n",
    "        \n",
    "        self.attr=self.df.shape[1]-1 #number of columns\n",
    "        \n",
    "        if centroids==None:\n",
    "            random_indices = np.random.choice(self.n, size=self.clusters, replace=False)\n",
    "            self.centroid=self.df[random_indices,:-1]\n",
    "            print('Random are--------')\n",
    "            print(self.centroid)\n",
    "        else:\n",
    "            self.centroid=np.array(centroids)# for example, centroids = [[1,5],[4,1],[8,4]] for 3 clusters\n",
    "            \n",
    "        self.centroid=self.centroid.astype('float64')\n",
    "        \n",
    "        old_clusters=self.df[:,-1].copy()\n",
    "#         print('old clus: ',old_clusters)\n",
    "        \n",
    "        for i in range(epochs):\n",
    "            self.iterate()\n",
    "            print('iteration ',i)\n",
    "#             print(self.centroid)\n",
    "#             print(self.df[:,-1])\n",
    "            comp = old_clusters==self.df[:,-1]\n",
    "            if (comp.all()):\n",
    "                print('No change in classes. Ending training...')\n",
    "                break\n",
    "            if show_plot==True:\n",
    "                self.plot()\n",
    "            old_clusters=self.df[:,-1].copy()"
   ]
  },
  {
   "cell_type": "code",
   "execution_count": 19,
   "id": "a39602e6",
   "metadata": {},
   "outputs": [
    {
     "data": {
      "text/html": [
       "<div>\n",
       "<style scoped>\n",
       "    .dataframe tbody tr th:only-of-type {\n",
       "        vertical-align: middle;\n",
       "    }\n",
       "\n",
       "    .dataframe tbody tr th {\n",
       "        vertical-align: top;\n",
       "    }\n",
       "\n",
       "    .dataframe thead th {\n",
       "        text-align: right;\n",
       "    }\n",
       "</style>\n",
       "<table border=\"1\" class=\"dataframe\">\n",
       "  <thead>\n",
       "    <tr style=\"text-align: right;\">\n",
       "      <th></th>\n",
       "      <th>x</th>\n",
       "      <th>y</th>\n",
       "    </tr>\n",
       "  </thead>\n",
       "  <tbody>\n",
       "    <tr>\n",
       "      <th>0</th>\n",
       "      <td>2</td>\n",
       "      <td>4</td>\n",
       "    </tr>\n",
       "    <tr>\n",
       "      <th>1</th>\n",
       "      <td>2</td>\n",
       "      <td>6</td>\n",
       "    </tr>\n",
       "    <tr>\n",
       "      <th>2</th>\n",
       "      <td>5</td>\n",
       "      <td>6</td>\n",
       "    </tr>\n",
       "    <tr>\n",
       "      <th>3</th>\n",
       "      <td>4</td>\n",
       "      <td>7</td>\n",
       "    </tr>\n",
       "    <tr>\n",
       "      <th>4</th>\n",
       "      <td>8</td>\n",
       "      <td>3</td>\n",
       "    </tr>\n",
       "    <tr>\n",
       "      <th>5</th>\n",
       "      <td>6</td>\n",
       "      <td>6</td>\n",
       "    </tr>\n",
       "    <tr>\n",
       "      <th>6</th>\n",
       "      <td>5</td>\n",
       "      <td>2</td>\n",
       "    </tr>\n",
       "    <tr>\n",
       "      <th>7</th>\n",
       "      <td>5</td>\n",
       "      <td>7</td>\n",
       "    </tr>\n",
       "    <tr>\n",
       "      <th>8</th>\n",
       "      <td>6</td>\n",
       "      <td>3</td>\n",
       "    </tr>\n",
       "    <tr>\n",
       "      <th>9</th>\n",
       "      <td>4</td>\n",
       "      <td>4</td>\n",
       "    </tr>\n",
       "  </tbody>\n",
       "</table>\n",
       "</div>"
      ],
      "text/plain": [
       "   x  y\n",
       "0  2  4\n",
       "1  2  6\n",
       "2  5  6\n",
       "3  4  7\n",
       "4  8  3\n",
       "5  6  6\n",
       "6  5  2\n",
       "7  5  7\n",
       "8  6  3\n",
       "9  4  4"
      ]
     },
     "execution_count": 19,
     "metadata": {},
     "output_type": "execute_result"
    }
   ],
   "source": [
    "x=np.array([2,2,5,4,8,6,5,5,6,4])\n",
    "y=np.array([4,6,6,7,3,6,2,7,3,4])\n",
    "df=pd.DataFrame(data=x,columns=['x'])\n",
    "df['y']=y.tolist()\n",
    "df"
   ]
  },
  {
   "cell_type": "code",
   "execution_count": 21,
   "id": "ff7ee9ed",
   "metadata": {},
   "outputs": [
    {
     "name": "stdout",
     "output_type": "stream",
     "text": [
      "Random are--------\n",
      "[[4. 7.]\n",
      " [8. 3.]]\n",
      "iteration  0\n"
     ]
    },
    {
     "data": {
      "image/png": "[encoded data removed]",
      "text/plain": [
       "<Figure size 432x288 with 1 Axes>"
      ]
     },
     "metadata": {
      "needs_background": "light"
     },
     "output_type": "display_data"
    },
    {
     "name": "stdout",
     "output_type": "stream",
     "text": [
      "iteration  1\n",
      "No change in classes. Ending training...\n"
     ]
    },
    {
     "data": {
      "text/plain": [
       "array([0, 0, 0, 0, 1, 0, 1, 0, 1, 0], dtype=int64)"
      ]
     },
     "execution_count": 21,
     "metadata": {},
     "output_type": "execute_result"
    }
   ],
   "source": [
    "kmeans=Kmeans(2)\n",
    "kmeans.fit(df)\n",
    "kmeans.predict(df)\n",
    "#kmeans.fit(df,[[6,3],[5,6]])"
   ]
  },
  {
   "cell_type": "code",
   "execution_count": null,
   "id": "29bad9c0",
   "metadata": {},
   "outputs": [],
   "source": []
  }
 ],
 "metadata": {
  "kernelspec": {
   "display_name": "Python [conda env:MachineLearning] *",
   "language": "python",
   "name": "conda-env-MachineLearning-py"
  },
  "language_info": {
   "codemirror_mode": {
    "name": "ipython",
    "version": 3
   },
   "file_extension": ".py",
   "mimetype": "text/x-python",
   "name": "python",
   "nbconvert_exporter": "python",
   "pygments_lexer": "ipython3",
   "version": "3.7.11"
  }
 },
 "nbformat": 4,
 "nbformat_minor": 5
}
